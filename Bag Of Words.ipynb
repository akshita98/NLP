{
 "cells": [
  {
   "cell_type": "code",
   "execution_count": 1,
   "id": "e9460782",
   "metadata": {},
   "outputs": [],
   "source": [
    "import nltk\n",
    "import re #This library is for regular expression\n",
    "from nltk.corpus import stopwords\n",
    "from nltk.stem.porter import PorterStemmer #For Stemming\n",
    "from nltk.stem import WordNetLemmatizer #For Lemmatization"
   ]
  },
  {
   "cell_type": "code",
   "execution_count": 2,
   "id": "92dc9e55",
   "metadata": {},
   "outputs": [],
   "source": [
    "paragraph = \"\"\"In 1996, aboard the research vessel Akademik Mstislav Keldysh, Brock Lovett and his team search the wreck of RMS Titanic. They recover a safe they hope contains a necklace with a large diamond known as the Heart of the Ocean. Instead, they only find a drawing of a young nude woman wearing the necklace. The sketch is dated April 14, 1912, the same day the Titanic struck the iceberg that caused it to sink.[Note 1] Rose Dawson Calvert, the woman in the drawing, is brought aboard Keldysh. She recounts her experiences aboard Titanic.\n",
    "\n",
    "In 1912 Southampton, 17-year-old Rose DeWitt Bukater, her wealthy fiancé Caledon \"Cal\" Hockley, and Rose's widowed mother, Ruth, board the Titanic. Ruth emphasizes that Rose's marriage to Cal will resolve the family's financial problems and maintain their upper-class status. Meanwhile, Jack Dawson, a poor young artist, wins a third-class Titanic ticket in a poker game. After setting sail, Rose, distraught over her loveless engagement, climbs over the stern railing, intending to jump overboard. Jack appears and coaxes her back onto the deck. The two develop a tentative friendship, but when Cal and Ruth strongly object, Rose acquiesces and discourages Jack's attention. She soon realizes she has feelings for Jack.\n",
    "\n",
    "Rose brings Jack to her state room and pays him a coin to sketch her nude, wearing only the Heart of the Ocean necklace. They later evade Cal's servant, Lovejoy, and have sex in a Renault Towncar inside the cargo hold. On the forward deck, they witness the ship's collision with an iceberg and overhear its officers and builder discussing the serious situation. Cal discovers Jack's sketch and Rose's insulting note left inside his safe, along with the necklace. When Jack and Rose return to warn the others about the collision, Cal has Lovejoy slip the necklace into Jack's pocket to frame him for theft. Jack is then confined in the master-at-arms' office. Cal then puts the necklace into his own overcoat pocket.\n",
    "\n",
    "With the ship sinking, Rose flees Cal and her mother, who has boarded a lifeboat. Rose finds and frees Jack, and they barely make it back to the boat deck. Cal and Jack urge Rose to board a lifeboat. Having arranged to save himself, Cal falsely claims he can get Jack safely off the ship. As her lifeboat is lowered, Rose, unable to abandon Jack, jumps back on board. Cal grabs Lovejoy's pistol and chases Rose and Jack into the flooding first-class dining saloon. They get away, and Cal realizes that he gave his coat, and consequently the necklace, to Rose; he later boards a lifeboat posing as a lost child's father.\n",
    "\n",
    "Jack and Rose return to the boat deck. The lifeboats have departed and the ship's stern is rising as the flooded bow sinks. As passengers fall to their deaths, Jack and Rose desperately cling to the stern rail. The upended ship breaks in half and the bow section dives downward. The remaining stern slams back onto the ocean, then upends again before it, too, sinks. In the freezing water, Jack helps Rose onto a wooden panel buoyant enough for only one person and makes her promise to survive. Jack dies of hypothermia, and Rose is saved by a returning lifeboat, keeping her promise.\n",
    "\n",
    "The RMS Carpathia rescues the survivors; Rose avoids Cal by hiding among the steerage passengers and gives her name as Rose Dawson. Still wearing Cal's overcoat, she discovers the necklace tucked inside the pocket. In the present, Rose says she later heard that Cal committed suicide after losing his fortune in the Wall Street Crash of 1929. Lovett abandons his search after hearing Rose's story. Alone on the stern of Keldysh, Rose takes out the Heart of the Ocean, which has been in her possession all along, and drops it into the sea over the wreck site. While she is seemingly asleep in her bed,[8] her photos on the dresser depict a life of freedom and adventure inspired by her early conversations with Jack. A young Rose reunites with Jack at Titanic's Grand Staircase, applauded by those who died on the ship.\"\"\""
   ]
  },
  {
   "cell_type": "code",
   "execution_count": 3,
   "id": "b1ffc75e",
   "metadata": {},
   "outputs": [],
   "source": [
    "stemming = PorterStemmer()\n",
    "lemmatization = WordNetLemmatizer()\n",
    "sentences = nltk.sent_tokenize(paragraph)\n",
    "corpus = []\n",
    "for i in range(len(sentences)):\n",
    "    review = re.sub('[^a-zA-Z]', ' ', sentences[i]) #Cleaning up all the sentences, sub is used to replace all other characters except for alphabets with a space.\n",
    "    review = review.lower() #Converting to lower case\n",
    "    review = review.split()\n",
    "    review = [stemming.stem(word) for word in review if not word in set(stopwords.words('english'))]\n",
    "    review = ' '.join(review)\n",
    "    corpus.append(review)"
   ]
  },
  {
   "cell_type": "code",
   "execution_count": 4,
   "id": "689c0883",
   "metadata": {},
   "outputs": [
    {
     "name": "stdout",
     "output_type": "stream",
     "text": [
      "['aboard research vessel akademik mstislav keldysh brock lovett team search wreck rm titan', 'recov safe hope contain necklac larg diamond known heart ocean', 'instead find draw young nude woman wear necklac', 'sketch date april day titan struck iceberg caus sink', 'note rose dawson calvert woman draw brought aboard keldysh', 'recount experi aboard titan', 'southampton year old rose dewitt bukat wealthi fianc caledon cal hockley rose widow mother ruth board titan', 'ruth emphas rose marriag cal resolv famili financi problem maintain upper class statu', 'meanwhil jack dawson poor young artist win third class titan ticket poker game', 'set sail rose distraught loveless engag climb stern rail intend jump overboard', 'jack appear coax back onto deck', 'two develop tent friendship cal ruth strongli object rose acquiesc discourag jack attent', 'soon realiz feel jack', 'rose bring jack state room pay coin sketch nude wear heart ocean necklac', 'later evad cal servant lovejoy sex renault towncar insid cargo hold', 'forward deck wit ship collis iceberg overhear offic builder discuss seriou situat', 'cal discov jack sketch rose insult note left insid safe along necklac', 'jack rose return warn other collis cal lovejoy slip necklac jack pocket frame theft', 'jack confin master arm offic', 'cal put necklac overcoat pocket', 'ship sink rose flee cal mother board lifeboat', 'rose find free jack bare make back boat deck', 'cal jack urg rose board lifeboat', 'arrang save cal fals claim get jack safe ship', 'lifeboat lower rose unabl abandon jack jump back board', 'cal grab lovejoy pistol chase rose jack flood first class dine saloon', 'get away cal realiz gave coat consequ necklac rose later board lifeboat pose lost child father', 'jack rose return boat deck', 'lifeboat depart ship stern rise flood bow sink', 'passeng fall death jack rose desper cling stern rail', 'upend ship break half bow section dive downward', 'remain stern slam back onto ocean upend sink', 'freez water jack help rose onto wooden panel buoyant enough one person make promis surviv', 'jack die hypothermia rose save return lifeboat keep promis', 'rm carpathia rescu survivor rose avoid cal hide among steerag passeng give name rose dawson', 'still wear cal overcoat discov necklac tuck insid pocket', 'present rose say later heard cal commit suicid lose fortun wall street crash', 'lovett abandon search hear rose stori', 'alon stern keldysh rose take heart ocean possess along drop sea wreck site', 'seemingli asleep bed photo dresser depict life freedom adventur inspir earli convers jack', 'young rose reunit jack titan grand staircas applaud die ship']\n"
     ]
    }
   ],
   "source": [
    "print(corpus)"
   ]
  },
  {
   "cell_type": "code",
   "execution_count": 5,
   "id": "7838e3e4",
   "metadata": {},
   "outputs": [],
   "source": [
    "stemming = PorterStemmer()\n",
    "lemmatization = WordNetLemmatizer()\n",
    "sentences = nltk.sent_tokenize(paragraph)\n",
    "corpus = []\n",
    "for i in range(len(sentences)):\n",
    "    review = re.sub('[^a-zA-Z]', ' ', sentences[i]) #Cleaning up all the sentences, sub is used to replace all other characters except for alphabets with a space.\n",
    "    review = review.lower() #Converting to lower case\n",
    "    review = review.split()\n",
    "    review = [lemmatization.lemmatize(word) for word in review if not word in set(stopwords.words('english'))]\n",
    "    review = ' '.join(review)\n",
    "    corpus.append(review)"
   ]
  },
  {
   "cell_type": "code",
   "execution_count": 6,
   "id": "9135a531",
   "metadata": {},
   "outputs": [
    {
     "name": "stdout",
     "output_type": "stream",
     "text": [
      "['aboard research vessel akademik mstislav keldysh brock lovett team search wreck rms titanic', 'recover safe hope contains necklace large diamond known heart ocean', 'instead find drawing young nude woman wearing necklace', 'sketch dated april day titanic struck iceberg caused sink', 'note rose dawson calvert woman drawing brought aboard keldysh', 'recount experience aboard titanic', 'southampton year old rose dewitt bukater wealthy fianc caledon cal hockley rose widowed mother ruth board titanic', 'ruth emphasizes rose marriage cal resolve family financial problem maintain upper class status', 'meanwhile jack dawson poor young artist win third class titanic ticket poker game', 'setting sail rose distraught loveless engagement climb stern railing intending jump overboard', 'jack appears coax back onto deck', 'two develop tentative friendship cal ruth strongly object rose acquiesces discourages jack attention', 'soon realizes feeling jack', 'rose brings jack state room pay coin sketch nude wearing heart ocean necklace', 'later evade cal servant lovejoy sex renault towncar inside cargo hold', 'forward deck witness ship collision iceberg overhear officer builder discussing serious situation', 'cal discovers jack sketch rose insulting note left inside safe along necklace', 'jack rose return warn others collision cal lovejoy slip necklace jack pocket frame theft', 'jack confined master arm office', 'cal put necklace overcoat pocket', 'ship sinking rose flees cal mother boarded lifeboat', 'rose find free jack barely make back boat deck', 'cal jack urge rose board lifeboat', 'arranged save cal falsely claim get jack safely ship', 'lifeboat lowered rose unable abandon jack jump back board', 'cal grab lovejoy pistol chase rose jack flooding first class dining saloon', 'get away cal realizes gave coat consequently necklace rose later board lifeboat posing lost child father', 'jack rose return boat deck', 'lifeboat departed ship stern rising flooded bow sink', 'passenger fall death jack rose desperately cling stern rail', 'upended ship break half bow section dive downward', 'remaining stern slam back onto ocean upends sink', 'freezing water jack help rose onto wooden panel buoyant enough one person make promise survive', 'jack dy hypothermia rose saved returning lifeboat keeping promise', 'rms carpathia rescue survivor rose avoids cal hiding among steerage passenger give name rose dawson', 'still wearing cal overcoat discovers necklace tucked inside pocket', 'present rose say later heard cal committed suicide losing fortune wall street crash', 'lovett abandon search hearing rose story', 'alone stern keldysh rose take heart ocean possession along drop sea wreck site', 'seemingly asleep bed photo dresser depict life freedom adventure inspired early conversation jack', 'young rose reunites jack titanic grand staircase applauded died ship']\n"
     ]
    }
   ],
   "source": [
    "print(corpus)"
   ]
  },
  {
   "cell_type": "code",
   "execution_count": 9,
   "id": "5c636bec",
   "metadata": {},
   "outputs": [],
   "source": [
    "#Bag Of Words model\n",
    "from sklearn.feature_extraction.text import CountVectorizer\n",
    "cv = CountVectorizer()\n",
    "X = cv.fit_transform(corpus).toarray()"
   ]
  },
  {
   "cell_type": "code",
   "execution_count": 10,
   "id": "6d417470",
   "metadata": {},
   "outputs": [
    {
     "name": "stdout",
     "output_type": "stream",
     "text": [
      "[[0 1 0 ... 1 0 0]\n",
      " [0 0 0 ... 0 0 0]\n",
      " [0 0 0 ... 0 0 1]\n",
      " ...\n",
      " [0 0 0 ... 1 0 0]\n",
      " [0 0 0 ... 0 0 0]\n",
      " [0 0 0 ... 0 0 1]]\n"
     ]
    }
   ],
   "source": [
    "print(X)"
   ]
  },
  {
   "cell_type": "code",
   "execution_count": null,
   "id": "cf9f5e38",
   "metadata": {},
   "outputs": [],
   "source": []
  }
 ],
 "metadata": {
  "kernelspec": {
   "display_name": "Python 3 (ipykernel)",
   "language": "python",
   "name": "python3"
  },
  "language_info": {
   "codemirror_mode": {
    "name": "ipython",
    "version": 3
   },
   "file_extension": ".py",
   "mimetype": "text/x-python",
   "name": "python",
   "nbconvert_exporter": "python",
   "pygments_lexer": "ipython3",
   "version": "3.9.12"
  }
 },
 "nbformat": 4,
 "nbformat_minor": 5
}
