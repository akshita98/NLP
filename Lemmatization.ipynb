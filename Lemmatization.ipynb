{
 "cells": [
  {
   "cell_type": "code",
   "execution_count": 1,
   "id": "ba2b6033",
   "metadata": {},
   "outputs": [],
   "source": [
    "import nltk\n",
    "from nltk.stem import WordNetLemmatizer\n",
    "from nltk.corpus import stopwords"
   ]
  },
  {
   "cell_type": "code",
   "execution_count": 2,
   "id": "88e659f9",
   "metadata": {},
   "outputs": [],
   "source": [
    "paragraph = \"\"\"In 1996, aboard the research vessel Akademik Mstislav Keldysh, Brock Lovett and his team search the wreck of RMS Titanic. They recover a safe they hope contains a necklace with a large diamond known as the Heart of the Ocean. Instead, they only find a drawing of a young nude woman wearing the necklace. The sketch is dated April 14, 1912, the same day the Titanic struck the iceberg that caused it to sink.[Note 1] Rose Dawson Calvert, the woman in the drawing, is brought aboard Keldysh. She recounts her experiences aboard Titanic.\n",
    "\n",
    "In 1912 Southampton, 17-year-old Rose DeWitt Bukater, her wealthy fiancé Caledon \"Cal\" Hockley, and Rose's widowed mother, Ruth, board the Titanic. Ruth emphasizes that Rose's marriage to Cal will resolve the family's financial problems and maintain their upper-class status. Meanwhile, Jack Dawson, a poor young artist, wins a third-class Titanic ticket in a poker game. After setting sail, Rose, distraught over her loveless engagement, climbs over the stern railing, intending to jump overboard. Jack appears and coaxes her back onto the deck. The two develop a tentative friendship, but when Cal and Ruth strongly object, Rose acquiesces and discourages Jack's attention. She soon realizes she has feelings for Jack.\n",
    "\n",
    "Rose brings Jack to her state room and pays him a coin to sketch her nude, wearing only the Heart of the Ocean necklace. They later evade Cal's servant, Lovejoy, and have sex in a Renault Towncar inside the cargo hold. On the forward deck, they witness the ship's collision with an iceberg and overhear its officers and builder discussing the serious situation. Cal discovers Jack's sketch and Rose's insulting note left inside his safe, along with the necklace. When Jack and Rose return to warn the others about the collision, Cal has Lovejoy slip the necklace into Jack's pocket to frame him for theft. Jack is then confined in the master-at-arms' office. Cal then puts the necklace into his own overcoat pocket.\n",
    "\n",
    "With the ship sinking, Rose flees Cal and her mother, who has boarded a lifeboat. Rose finds and frees Jack, and they barely make it back to the boat deck. Cal and Jack urge Rose to board a lifeboat. Having arranged to save himself, Cal falsely claims he can get Jack safely off the ship. As her lifeboat is lowered, Rose, unable to abandon Jack, jumps back on board. Cal grabs Lovejoy's pistol and chases Rose and Jack into the flooding first-class dining saloon. They get away, and Cal realizes that he gave his coat, and consequently the necklace, to Rose; he later boards a lifeboat posing as a lost child's father.\n",
    "\n",
    "Jack and Rose return to the boat deck. The lifeboats have departed and the ship's stern is rising as the flooded bow sinks. As passengers fall to their deaths, Jack and Rose desperately cling to the stern rail. The upended ship breaks in half and the bow section dives downward. The remaining stern slams back onto the ocean, then upends again before it, too, sinks. In the freezing water, Jack helps Rose onto a wooden panel buoyant enough for only one person and makes her promise to survive. Jack dies of hypothermia, and Rose is saved by a returning lifeboat, keeping her promise.\n",
    "\n",
    "The RMS Carpathia rescues the survivors; Rose avoids Cal by hiding among the steerage passengers and gives her name as Rose Dawson. Still wearing Cal's overcoat, she discovers the necklace tucked inside the pocket. In the present, Rose says she later heard that Cal committed suicide after losing his fortune in the Wall Street Crash of 1929. Lovett abandons his search after hearing Rose's story. Alone on the stern of Keldysh, Rose takes out the Heart of the Ocean, which has been in her possession all along, and drops it into the sea over the wreck site. While she is seemingly asleep in her bed,[8] her photos on the dresser depict a life of freedom and adventure inspired by her early conversations with Jack. A young Rose reunites with Jack at Titanic's Grand Staircase, applauded by those who died on the ship.\"\"\""
   ]
  },
  {
   "cell_type": "code",
   "execution_count": 3,
   "id": "92935ec6",
   "metadata": {},
   "outputs": [],
   "source": [
    "sentences = nltk.sent_tokenize(paragraph)\n",
    "lemmatizer = WordNetLemmatizer()"
   ]
  },
  {
   "cell_type": "code",
   "execution_count": 4,
   "id": "3949639b",
   "metadata": {},
   "outputs": [],
   "source": [
    "for i in range(len(sentences)):\n",
    "    words = nltk.word_tokenize(sentences[i])\n",
    "    words = [lemmatizer.lemmatize(word) for word in words if word not in set(stopwords.words('english'))]\n",
    "    sentences[i] = ' '.join(words)"
   ]
  },
  {
   "cell_type": "code",
   "execution_count": 5,
   "id": "2c216660",
   "metadata": {},
   "outputs": [
    {
     "name": "stdout",
     "output_type": "stream",
     "text": [
      "['In 1996 , aboard research vessel Akademik Mstislav Keldysh , Brock Lovett team search wreck RMS Titanic .', 'They recover safe hope contains necklace large diamond known Heart Ocean .', 'Instead , find drawing young nude woman wearing necklace .', 'The sketch dated April 14 , 1912 , day Titanic struck iceberg caused sink .', '[ Note 1 ] Rose Dawson Calvert , woman drawing , brought aboard Keldysh .', 'She recount experience aboard Titanic .', \"In 1912 Southampton , 17-year-old Rose DeWitt Bukater , wealthy fiancé Caledon `` Cal '' Hockley , Rose 's widowed mother , Ruth , board Titanic .\", \"Ruth emphasizes Rose 's marriage Cal resolve family 's financial problem maintain upper-class status .\", 'Meanwhile , Jack Dawson , poor young artist , win third-class Titanic ticket poker game .', 'After setting sail , Rose , distraught loveless engagement , climb stern railing , intending jump overboard .', 'Jack appears coax back onto deck .', \"The two develop tentative friendship , Cal Ruth strongly object , Rose acquiesces discourages Jack 's attention .\", 'She soon realizes feeling Jack .', 'Rose brings Jack state room pay coin sketch nude , wearing Heart Ocean necklace .', \"They later evade Cal 's servant , Lovejoy , sex Renault Towncar inside cargo hold .\", \"On forward deck , witness ship 's collision iceberg overhear officer builder discussing serious situation .\", \"Cal discovers Jack 's sketch Rose 's insulting note left inside safe , along necklace .\", \"When Jack Rose return warn others collision , Cal Lovejoy slip necklace Jack 's pocket frame theft .\", \"Jack confined master-at-arms ' office .\", 'Cal put necklace overcoat pocket .', 'With ship sinking , Rose flees Cal mother , boarded lifeboat .', 'Rose find free Jack , barely make back boat deck .', 'Cal Jack urge Rose board lifeboat .', 'Having arranged save , Cal falsely claim get Jack safely ship .', 'As lifeboat lowered , Rose , unable abandon Jack , jump back board .', \"Cal grab Lovejoy 's pistol chase Rose Jack flooding first-class dining saloon .\", \"They get away , Cal realizes gave coat , consequently necklace , Rose ; later board lifeboat posing lost child 's father .\", 'Jack Rose return boat deck .', \"The lifeboat departed ship 's stern rising flooded bow sink .\", 'As passenger fall death , Jack Rose desperately cling stern rail .', 'The upended ship break half bow section dive downward .', 'The remaining stern slam back onto ocean , upends , , sink .', 'In freezing water , Jack help Rose onto wooden panel buoyant enough one person make promise survive .', 'Jack dy hypothermia , Rose saved returning lifeboat , keeping promise .', 'The RMS Carpathia rescue survivor ; Rose avoids Cal hiding among steerage passenger give name Rose Dawson .', \"Still wearing Cal 's overcoat , discovers necklace tucked inside pocket .\", 'In present , Rose say later heard Cal committed suicide losing fortune Wall Street Crash 1929 .', \"Lovett abandon search hearing Rose 's story .\", 'Alone stern Keldysh , Rose take Heart Ocean , possession along , drop sea wreck site .', 'While seemingly asleep bed , [ 8 ] photo dresser depict life freedom adventure inspired early conversation Jack .', \"A young Rose reunites Jack Titanic 's Grand Staircase , applauded died ship .\"]\n"
     ]
    }
   ],
   "source": [
    "print(sentences)"
   ]
  },
  {
   "cell_type": "code",
   "execution_count": null,
   "id": "4d6d46b6",
   "metadata": {},
   "outputs": [],
   "source": []
  }
 ],
 "metadata": {
  "kernelspec": {
   "display_name": "Python 3 (ipykernel)",
   "language": "python",
   "name": "python3"
  },
  "language_info": {
   "codemirror_mode": {
    "name": "ipython",
    "version": 3
   },
   "file_extension": ".py",
   "mimetype": "text/x-python",
   "name": "python",
   "nbconvert_exporter": "python",
   "pygments_lexer": "ipython3",
   "version": "3.9.12"
  }
 },
 "nbformat": 4,
 "nbformat_minor": 5
}
