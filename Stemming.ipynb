{
 "cells": [
  {
   "cell_type": "code",
   "execution_count": 2,
   "id": "c6d02461",
   "metadata": {},
   "outputs": [],
   "source": [
    "import nltk\n",
    "from nltk.stem import PorterStemmer\n",
    "from nltk.corpus import stopwords"
   ]
  },
  {
   "cell_type": "code",
   "execution_count": 4,
   "id": "d482bf35",
   "metadata": {},
   "outputs": [
    {
     "data": {
      "text/plain": [
       "['i',\n",
       " 'me',\n",
       " 'my',\n",
       " 'myself',\n",
       " 'we',\n",
       " 'our',\n",
       " 'ours',\n",
       " 'ourselves',\n",
       " 'you',\n",
       " \"you're\",\n",
       " \"you've\",\n",
       " \"you'll\",\n",
       " \"you'd\",\n",
       " 'your',\n",
       " 'yours',\n",
       " 'yourself',\n",
       " 'yourselves',\n",
       " 'he',\n",
       " 'him',\n",
       " 'his',\n",
       " 'himself',\n",
       " 'she',\n",
       " \"she's\",\n",
       " 'her',\n",
       " 'hers',\n",
       " 'herself',\n",
       " 'it',\n",
       " \"it's\",\n",
       " 'its',\n",
       " 'itself',\n",
       " 'they',\n",
       " 'them',\n",
       " 'their',\n",
       " 'theirs',\n",
       " 'themselves',\n",
       " 'what',\n",
       " 'which',\n",
       " 'who',\n",
       " 'whom',\n",
       " 'this',\n",
       " 'that',\n",
       " \"that'll\",\n",
       " 'these',\n",
       " 'those',\n",
       " 'am',\n",
       " 'is',\n",
       " 'are',\n",
       " 'was',\n",
       " 'were',\n",
       " 'be',\n",
       " 'been',\n",
       " 'being',\n",
       " 'have',\n",
       " 'has',\n",
       " 'had',\n",
       " 'having',\n",
       " 'do',\n",
       " 'does',\n",
       " 'did',\n",
       " 'doing',\n",
       " 'a',\n",
       " 'an',\n",
       " 'the',\n",
       " 'and',\n",
       " 'but',\n",
       " 'if',\n",
       " 'or',\n",
       " 'because',\n",
       " 'as',\n",
       " 'until',\n",
       " 'while',\n",
       " 'of',\n",
       " 'at',\n",
       " 'by',\n",
       " 'for',\n",
       " 'with',\n",
       " 'about',\n",
       " 'against',\n",
       " 'between',\n",
       " 'into',\n",
       " 'through',\n",
       " 'during',\n",
       " 'before',\n",
       " 'after',\n",
       " 'above',\n",
       " 'below',\n",
       " 'to',\n",
       " 'from',\n",
       " 'up',\n",
       " 'down',\n",
       " 'in',\n",
       " 'out',\n",
       " 'on',\n",
       " 'off',\n",
       " 'over',\n",
       " 'under',\n",
       " 'again',\n",
       " 'further',\n",
       " 'then',\n",
       " 'once',\n",
       " 'here',\n",
       " 'there',\n",
       " 'when',\n",
       " 'where',\n",
       " 'why',\n",
       " 'how',\n",
       " 'all',\n",
       " 'any',\n",
       " 'both',\n",
       " 'each',\n",
       " 'few',\n",
       " 'more',\n",
       " 'most',\n",
       " 'other',\n",
       " 'some',\n",
       " 'such',\n",
       " 'no',\n",
       " 'nor',\n",
       " 'not',\n",
       " 'only',\n",
       " 'own',\n",
       " 'same',\n",
       " 'so',\n",
       " 'than',\n",
       " 'too',\n",
       " 'very',\n",
       " 's',\n",
       " 't',\n",
       " 'can',\n",
       " 'will',\n",
       " 'just',\n",
       " 'don',\n",
       " \"don't\",\n",
       " 'should',\n",
       " \"should've\",\n",
       " 'now',\n",
       " 'd',\n",
       " 'll',\n",
       " 'm',\n",
       " 'o',\n",
       " 're',\n",
       " 've',\n",
       " 'y',\n",
       " 'ain',\n",
       " 'aren',\n",
       " \"aren't\",\n",
       " 'couldn',\n",
       " \"couldn't\",\n",
       " 'didn',\n",
       " \"didn't\",\n",
       " 'doesn',\n",
       " \"doesn't\",\n",
       " 'hadn',\n",
       " \"hadn't\",\n",
       " 'hasn',\n",
       " \"hasn't\",\n",
       " 'haven',\n",
       " \"haven't\",\n",
       " 'isn',\n",
       " \"isn't\",\n",
       " 'ma',\n",
       " 'mightn',\n",
       " \"mightn't\",\n",
       " 'mustn',\n",
       " \"mustn't\",\n",
       " 'needn',\n",
       " \"needn't\",\n",
       " 'shan',\n",
       " \"shan't\",\n",
       " 'shouldn',\n",
       " \"shouldn't\",\n",
       " 'wasn',\n",
       " \"wasn't\",\n",
       " 'weren',\n",
       " \"weren't\",\n",
       " 'won',\n",
       " \"won't\",\n",
       " 'wouldn',\n",
       " \"wouldn't\"]"
      ]
     },
     "execution_count": 4,
     "metadata": {},
     "output_type": "execute_result"
    }
   ],
   "source": [
    "stopwords.words('english')"
   ]
  },
  {
   "cell_type": "code",
   "execution_count": 7,
   "id": "e0850d9b",
   "metadata": {},
   "outputs": [],
   "source": [
    "paragraph = \"\"\"In 1996, aboard the research vessel Akademik Mstislav Keldysh, Brock Lovett and his team search the wreck of RMS Titanic. They recover a safe they hope contains a necklace with a large diamond known as the Heart of the Ocean. Instead, they only find a drawing of a young nude woman wearing the necklace. The sketch is dated April 14, 1912, the same day the Titanic struck the iceberg that caused it to sink.[Note 1] Rose Dawson Calvert, the woman in the drawing, is brought aboard Keldysh. She recounts her experiences aboard Titanic.\n",
    "\n",
    "In 1912 Southampton, 17-year-old Rose DeWitt Bukater, her wealthy fiancé Caledon \"Cal\" Hockley, and Rose's widowed mother, Ruth, board the Titanic. Ruth emphasizes that Rose's marriage to Cal will resolve the family's financial problems and maintain their upper-class status. Meanwhile, Jack Dawson, a poor young artist, wins a third-class Titanic ticket in a poker game. After setting sail, Rose, distraught over her loveless engagement, climbs over the stern railing, intending to jump overboard. Jack appears and coaxes her back onto the deck. The two develop a tentative friendship, but when Cal and Ruth strongly object, Rose acquiesces and discourages Jack's attention. She soon realizes she has feelings for Jack.\n",
    "\n",
    "Rose brings Jack to her state room and pays him a coin to sketch her nude, wearing only the Heart of the Ocean necklace. They later evade Cal's servant, Lovejoy, and have sex in a Renault Towncar inside the cargo hold. On the forward deck, they witness the ship's collision with an iceberg and overhear its officers and builder discussing the serious situation. Cal discovers Jack's sketch and Rose's insulting note left inside his safe, along with the necklace. When Jack and Rose return to warn the others about the collision, Cal has Lovejoy slip the necklace into Jack's pocket to frame him for theft. Jack is then confined in the master-at-arms' office. Cal then puts the necklace into his own overcoat pocket.\n",
    "\n",
    "With the ship sinking, Rose flees Cal and her mother, who has boarded a lifeboat. Rose finds and frees Jack, and they barely make it back to the boat deck. Cal and Jack urge Rose to board a lifeboat. Having arranged to save himself, Cal falsely claims he can get Jack safely off the ship. As her lifeboat is lowered, Rose, unable to abandon Jack, jumps back on board. Cal grabs Lovejoy's pistol and chases Rose and Jack into the flooding first-class dining saloon. They get away, and Cal realizes that he gave his coat, and consequently the necklace, to Rose; he later boards a lifeboat posing as a lost child's father.\n",
    "\n",
    "Jack and Rose return to the boat deck. The lifeboats have departed and the ship's stern is rising as the flooded bow sinks. As passengers fall to their deaths, Jack and Rose desperately cling to the stern rail. The upended ship breaks in half and the bow section dives downward. The remaining stern slams back onto the ocean, then upends again before it, too, sinks. In the freezing water, Jack helps Rose onto a wooden panel buoyant enough for only one person and makes her promise to survive. Jack dies of hypothermia, and Rose is saved by a returning lifeboat, keeping her promise.\n",
    "\n",
    "The RMS Carpathia rescues the survivors; Rose avoids Cal by hiding among the steerage passengers and gives her name as Rose Dawson. Still wearing Cal's overcoat, she discovers the necklace tucked inside the pocket. In the present, Rose says she later heard that Cal committed suicide after losing his fortune in the Wall Street Crash of 1929. Lovett abandons his search after hearing Rose's story. Alone on the stern of Keldysh, Rose takes out the Heart of the Ocean, which has been in her possession all along, and drops it into the sea over the wreck site. While she is seemingly asleep in her bed,[8] her photos on the dresser depict a life of freedom and adventure inspired by her early conversations with Jack. A young Rose reunites with Jack at Titanic's Grand Staircase, applauded by those who died on the ship.\"\"\""
   ]
  },
  {
   "cell_type": "code",
   "execution_count": 8,
   "id": "363ab5fa",
   "metadata": {},
   "outputs": [],
   "source": [
    "sentences = nltk.sent_tokenize(paragraph)"
   ]
  },
  {
   "cell_type": "code",
   "execution_count": 9,
   "id": "6dadff96",
   "metadata": {},
   "outputs": [],
   "source": [
    "#Stemming is done for each and every word in the paragraph\n",
    "stemmer = PorterStemmer() "
   ]
  },
  {
   "cell_type": "code",
   "execution_count": 10,
   "id": "288593e5",
   "metadata": {},
   "outputs": [
    {
     "data": {
      "text/plain": [
       "41"
      ]
     },
     "execution_count": 10,
     "metadata": {},
     "output_type": "execute_result"
    }
   ],
   "source": [
    "len(sentences)"
   ]
  },
  {
   "cell_type": "code",
   "execution_count": 12,
   "id": "57eba5b8",
   "metadata": {},
   "outputs": [],
   "source": [
    "for i in range(len(sentences)):\n",
    "    words = nltk.word_tokenize(sentences[i])\n",
    "    #list comprehension \n",
    "    words = [stemmer.stem(word) for word in words if word not in set(stopwords.words('english'))] #set helps to take the unique stopwords in the english language\n",
    "    sentences[i] = ' '.join(words)"
   ]
  },
  {
   "cell_type": "code",
   "execution_count": 13,
   "id": "1c6945ee",
   "metadata": {},
   "outputs": [
    {
     "name": "stdout",
     "output_type": "stream",
     "text": [
      "['in 1996 , aboard research vessel akademik mstislav keldysh , brock lovett team search wreck rm titan .', 'they recov safe hope contain necklac larg diamond known heart ocean .', 'instead , find draw young nude woman wear necklac .', 'the sketch date april 14 , 1912 , day titan struck iceberg caus sink .', '[ note 1 ] rose dawson calvert , woman draw , brought aboard keldysh .', 'she recount experi aboard titan .', \"in 1912 southampton , 17-year-old rose dewitt bukat , wealthi fiancé caledon `` cal '' hockley , rose 's widow mother , ruth , board titan .\", \"ruth emphas rose 's marriag cal resolv famili 's financi problem maintain upper-class statu .\", 'meanwhil , jack dawson , poor young artist , win third-class titan ticket poker game .', 'after set sail , rose , distraught loveless engag , climb stern rail , intend jump overboard .', 'jack appear coax back onto deck .', \"the two develop tent friendship , cal ruth strongli object , rose acquiesc discourag jack 's attent .\", 'she soon realiz feel jack .', 'rose bring jack state room pay coin sketch nude , wear heart ocean necklac .', \"they later evad cal 's servant , lovejoy , sex renault towncar insid cargo hold .\", \"on forward deck , wit ship 's collis iceberg overhear offic builder discuss seriou situat .\", \"cal discov jack 's sketch rose 's insult note left insid safe , along necklac .\", \"when jack rose return warn other collis , cal lovejoy slip necklac jack 's pocket frame theft .\", \"jack confin master-at-arm ' offic .\", 'cal put necklac overcoat pocket .', 'with ship sink , rose flee cal mother , board lifeboat .', 'rose find free jack , bare make back boat deck .', 'cal jack urg rose board lifeboat .', 'have arrang save , cal fals claim get jack safe ship .', 'as lifeboat lower , rose , unabl abandon jack , jump back board .', \"cal grab lovejoy 's pistol chase rose jack flood first-class dine saloon .\", \"they get away , cal realiz gave coat , consequ necklac , rose ; later board lifeboat pose lost child 's father .\", 'jack rose return boat deck .', \"the lifeboat depart ship 's stern rise flood bow sink .\", 'as passeng fall death , jack rose desper cling stern rail .', 'the upend ship break half bow section dive downward .', 'the remain stern slam back onto ocean , upend , , sink .', 'in freez water , jack help rose onto wooden panel buoyant enough one person make promis surviv .', 'jack die hypothermia , rose save return lifeboat , keep promis .', 'the rm carpathia rescu survivor ; rose avoid cal hide among steerag passeng give name rose dawson .', \"still wear cal 's overcoat , discov necklac tuck insid pocket .\", 'in present , rose say later heard cal commit suicid lose fortun wall street crash 1929 .', \"lovett abandon search hear rose 's stori .\", 'alon stern keldysh , rose take heart ocean , possess along , drop sea wreck site .', 'while seemingli asleep bed , [ 8 ] photo dresser depict life freedom adventur inspir earli convers jack .', \"a young rose reunit jack titan 's grand staircas , applaud die ship .\"]\n"
     ]
    }
   ],
   "source": [
    "print(sentences)"
   ]
  },
  {
   "cell_type": "code",
   "execution_count": null,
   "id": "837e2e5a",
   "metadata": {},
   "outputs": [],
   "source": []
  }
 ],
 "metadata": {
  "kernelspec": {
   "display_name": "Python 3 (ipykernel)",
   "language": "python",
   "name": "python3"
  },
  "language_info": {
   "codemirror_mode": {
    "name": "ipython",
    "version": 3
   },
   "file_extension": ".py",
   "mimetype": "text/x-python",
   "name": "python",
   "nbconvert_exporter": "python",
   "pygments_lexer": "ipython3",
   "version": "3.9.12"
  }
 },
 "nbformat": 4,
 "nbformat_minor": 5
}
